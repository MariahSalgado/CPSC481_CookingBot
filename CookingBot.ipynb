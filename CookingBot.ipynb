{
 "cells": [
  {
   "cell_type": "code",
   "execution_count": 468,
   "id": "d0041cc3-3936-4171-a8ce-2a370d9d6024",
   "metadata": {},
   "outputs": [],
   "source": [
    "import numpy as np\n",
    "import pandas as pd\n",
    "import matplotlib.pyplot as plt\n",
    "import os\n",
    "from sklearn.feature_extraction.text import CountVectorizer\n",
    "from sklearn.metrics.pairwise import cosine_similarity\n",
    "from sklearn.model_selection import train_test_split\n",
    "import pickle"
   ]
  },
  {
   "cell_type": "code",
   "execution_count": 469,
   "id": "081e04fa-13f5-4cda-a4f7-e0fb7424537d",
   "metadata": {},
   "outputs": [],
   "source": [
    "recipes = pd.read_csv('recipes.csv')"
   ]
  },
  {
   "cell_type": "code",
   "execution_count": 470,
   "id": "7100cbc6-6b0a-46b4-a62a-51d557f89c5c",
   "metadata": {},
   "outputs": [
    {
     "data": {
      "text/plain": [
       "(522517, 28)"
      ]
     },
     "execution_count": 470,
     "metadata": {},
     "output_type": "execute_result"
    }
   ],
   "source": [
    "recipes.shape"
   ]
  },
  {
   "cell_type": "code",
   "execution_count": 471,
   "id": "4ab4d4f0-d4a0-4df4-9f30-4431b624dc68",
   "metadata": {},
   "outputs": [
    {
     "data": {
      "text/plain": [
       "RecipeId                           0\n",
       "Name                               0\n",
       "AuthorId                           0\n",
       "AuthorName                         0\n",
       "CookTime                       82545\n",
       "PrepTime                           0\n",
       "TotalTime                          0\n",
       "DatePublished                      0\n",
       "Description                        5\n",
       "Images                             1\n",
       "RecipeCategory                   751\n",
       "Keywords                       17237\n",
       "RecipeIngredientQuantities         3\n",
       "RecipeIngredientParts              0\n",
       "AggregatedRating              253223\n",
       "ReviewCount                   247489\n",
       "Calories                           0\n",
       "FatContent                         0\n",
       "SaturatedFatContent                0\n",
       "CholesterolContent                 0\n",
       "SodiumContent                      0\n",
       "CarbohydrateContent                0\n",
       "FiberContent                       0\n",
       "SugarContent                       0\n",
       "ProteinContent                     0\n",
       "RecipeServings                182911\n",
       "RecipeYield                   348071\n",
       "RecipeInstructions                 0\n",
       "dtype: int64"
      ]
     },
     "execution_count": 471,
     "metadata": {},
     "output_type": "execute_result"
    }
   ],
   "source": [
    "recipes.isnull().sum()"
   ]
  },
  {
   "cell_type": "code",
   "execution_count": 472,
   "id": "b45d3c80-11ac-43db-8946-4adb81d2ea31",
   "metadata": {},
   "outputs": [],
   "source": [
    "recipes.dropna(inplace=True)"
   ]
  },
  {
   "cell_type": "code",
   "execution_count": 473,
   "id": "f640a992-908f-4ddd-ad30-9a028aa04f54",
   "metadata": {},
   "outputs": [
    {
     "data": {
      "text/plain": [
       "RecipeId                      0\n",
       "Name                          0\n",
       "AuthorId                      0\n",
       "AuthorName                    0\n",
       "CookTime                      0\n",
       "PrepTime                      0\n",
       "TotalTime                     0\n",
       "DatePublished                 0\n",
       "Description                   0\n",
       "Images                        0\n",
       "RecipeCategory                0\n",
       "Keywords                      0\n",
       "RecipeIngredientQuantities    0\n",
       "RecipeIngredientParts         0\n",
       "AggregatedRating              0\n",
       "ReviewCount                   0\n",
       "Calories                      0\n",
       "FatContent                    0\n",
       "SaturatedFatContent           0\n",
       "CholesterolContent            0\n",
       "SodiumContent                 0\n",
       "CarbohydrateContent           0\n",
       "FiberContent                  0\n",
       "SugarContent                  0\n",
       "ProteinContent                0\n",
       "RecipeServings                0\n",
       "RecipeYield                   0\n",
       "RecipeInstructions            0\n",
       "dtype: int64"
      ]
     },
     "execution_count": 473,
     "metadata": {},
     "output_type": "execute_result"
    }
   ],
   "source": [
    "recipes.isnull().sum()"
   ]
  },
  {
   "cell_type": "code",
   "execution_count": 474,
   "id": "415726ee-3e1d-44eb-90ae-67a2b0075505",
   "metadata": {},
   "outputs": [
    {
     "data": {
      "text/plain": [
       "(28014, 28)"
      ]
     },
     "execution_count": 474,
     "metadata": {},
     "output_type": "execute_result"
    }
   ],
   "source": [
    "recipes.shape"
   ]
  },
  {
   "cell_type": "code",
   "execution_count": 475,
   "id": "7fba48e2-97bf-47ec-a4d0-fad2b9f636d9",
   "metadata": {},
   "outputs": [],
   "source": [
    "recipes = recipes.drop_duplicates(subset=['Name'])"
   ]
  },
  {
   "cell_type": "code",
   "execution_count": 476,
   "id": "8ff4f000-2ea4-4866-8175-f951788e383f",
   "metadata": {},
   "outputs": [],
   "source": [
    "recipes = recipes.reset_index()"
   ]
  },
  {
   "cell_type": "code",
   "execution_count": 477,
   "id": "2bddb525-f43c-45f9-9c8c-ed389d18dcc2",
   "metadata": {},
   "outputs": [],
   "source": [
    "recipes['Keywords'] = recipes['Keywords'] + ' ' + recipes['RecipeCategory'] + ' ' + recipes['RecipeIngredientParts'] + ' ' + recipes['Name']"
   ]
  },
  {
   "cell_type": "code",
   "execution_count": 478,
   "id": "34196cb7-1493-4599-ac9b-f12d0e295b16",
   "metadata": {},
   "outputs": [],
   "source": [
    "recipes['Keywords'] = recipes['Keywords'].str.translate(str.maketrans('','','(c\",)'))"
   ]
  },
  {
   "cell_type": "code",
   "execution_count": 479,
   "id": "849ae056-5910-4181-b787-daf2c303ec88",
   "metadata": {},
   "outputs": [
    {
     "data": {
      "text/plain": [
       "\"Beans Vegetable Low Cholesterol Weeknight Broil/Grill Oven Soy/Tofu extra firm tofu eggplant zuhini mushrooms soy saue low sodium soy saue olive oil maple syrup honey red wine vinegar lemon juie garli loves mustard powder blak pepper Carina's Tofu-Vegetable Kebabs\""
      ]
     },
     "execution_count": 479,
     "metadata": {},
     "output_type": "execute_result"
    }
   ],
   "source": [
    "recipes.iloc[0]['Keywords']"
   ]
  },
  {
   "cell_type": "code",
   "execution_count": 480,
   "id": "c1e8b3d5-7423-4fa3-9b85-a97cfc4d0b36",
   "metadata": {},
   "outputs": [],
   "source": [
    "cv = CountVectorizer(max_features=1000, stop_words='english')"
   ]
  },
  {
   "cell_type": "code",
   "execution_count": 481,
   "id": "86378d53-7d82-4177-b83d-e00f7c01faf1",
   "metadata": {},
   "outputs": [],
   "source": [
    "vector = cv.fit_transform(recipes['Keywords'].values.astype('U')).toarray()"
   ]
  },
  {
   "cell_type": "code",
   "execution_count": 482,
   "id": "7a288ff8-be8c-4703-bbbe-37b8df1172bf",
   "metadata": {},
   "outputs": [],
   "source": [
    "similar = cosine_similarity(vector)"
   ]
  },
  {
   "cell_type": "code",
   "execution_count": 483,
   "id": "b466d990-79fd-4559-96e9-3afb6e222594",
   "metadata": {},
   "outputs": [
    {
     "name": "stdout",
     "output_type": "stream",
     "text": [
      "Carrot Cake\n",
      "Freeman Allen's Carrot Cake\n",
      "1940's Best Carrot Cake Recipe\n",
      "Family Heirloom Carrot Cake\n",
      "Kathy's Carrot Cake\n"
     ]
    }
   ],
   "source": [
    "distance = sorted(list(enumerate(similar[2])), reverse=True, key=lambda vector:vector[1])\n",
    "for i in distance[0:5]:\n",
    "    print(recipes.iloc[i[0]].Name)"
   ]
  },
  {
   "cell_type": "code",
   "execution_count": 505,
   "id": "de1573c9-7b79-47c9-9e98-f7d864d24e73",
   "metadata": {},
   "outputs": [],
   "source": [
    "def recommend(recipes_input):\n",
    "    index = recipes[recipes['Name']==recipes_input].index[0]\n",
    "    distance = sorted(list(enumerate(similar[index])), reverse=True, key=lambda vector:vector[1])\n",
    "    for i in distance[0:5]:\n",
    "        print(recipes.iloc[i[0]].Name)\n",
    "        print(recipes.iloc[i[0]].Images)"
   ]
  },
  {
   "cell_type": "code",
   "execution_count": 485,
   "id": "a5f15498-195a-4738-83b3-6028f5d1d067",
   "metadata": {},
   "outputs": [
    {
     "data": {
      "text/html": [
       "<div>\n",
       "<style scoped>\n",
       "    .dataframe tbody tr th:only-of-type {\n",
       "        vertical-align: middle;\n",
       "    }\n",
       "\n",
       "    .dataframe tbody tr th {\n",
       "        vertical-align: top;\n",
       "    }\n",
       "\n",
       "    .dataframe thead th {\n",
       "        text-align: right;\n",
       "    }\n",
       "</style>\n",
       "<table border=\"1\" class=\"dataframe\">\n",
       "  <thead>\n",
       "    <tr style=\"text-align: right;\">\n",
       "      <th></th>\n",
       "      <th>index</th>\n",
       "      <th>RecipeId</th>\n",
       "      <th>Name</th>\n",
       "      <th>AuthorId</th>\n",
       "      <th>AuthorName</th>\n",
       "      <th>CookTime</th>\n",
       "      <th>PrepTime</th>\n",
       "      <th>TotalTime</th>\n",
       "      <th>DatePublished</th>\n",
       "      <th>Description</th>\n",
       "      <th>...</th>\n",
       "      <th>SaturatedFatContent</th>\n",
       "      <th>CholesterolContent</th>\n",
       "      <th>SodiumContent</th>\n",
       "      <th>CarbohydrateContent</th>\n",
       "      <th>FiberContent</th>\n",
       "      <th>SugarContent</th>\n",
       "      <th>ProteinContent</th>\n",
       "      <th>RecipeServings</th>\n",
       "      <th>RecipeYield</th>\n",
       "      <th>RecipeInstructions</th>\n",
       "    </tr>\n",
       "  </thead>\n",
       "  <tbody>\n",
       "    <tr>\n",
       "      <th>0</th>\n",
       "      <td>3</td>\n",
       "      <td>41</td>\n",
       "      <td>Carina's Tofu-Vegetable Kebabs</td>\n",
       "      <td>1586</td>\n",
       "      <td>Cyclopz</td>\n",
       "      <td>PT20M</td>\n",
       "      <td>PT24H</td>\n",
       "      <td>PT24H20M</td>\n",
       "      <td>1999-09-03T14:54:00Z</td>\n",
       "      <td>This dish is best prepared a day in advance to...</td>\n",
       "      <td>...</td>\n",
       "      <td>3.8</td>\n",
       "      <td>0.0</td>\n",
       "      <td>1558.6</td>\n",
       "      <td>64.2</td>\n",
       "      <td>17.3</td>\n",
       "      <td>32.1</td>\n",
       "      <td>29.3</td>\n",
       "      <td>2.0</td>\n",
       "      <td>4 kebabs</td>\n",
       "      <td>c(\"Drain the tofu, carefully squeezing out exc...</td>\n",
       "    </tr>\n",
       "    <tr>\n",
       "      <th>1</th>\n",
       "      <td>5</td>\n",
       "      <td>43</td>\n",
       "      <td>Best Blackbottom Pie</td>\n",
       "      <td>34879</td>\n",
       "      <td>Barefoot Beachcomber</td>\n",
       "      <td>PT2H</td>\n",
       "      <td>PT20M</td>\n",
       "      <td>PT2H20M</td>\n",
       "      <td>1999-08-21T10:35:00Z</td>\n",
       "      <td>Make and share this Best Blackbottom Pie recip...</td>\n",
       "      <td>...</td>\n",
       "      <td>10.9</td>\n",
       "      <td>94.3</td>\n",
       "      <td>267.6</td>\n",
       "      <td>58.0</td>\n",
       "      <td>1.8</td>\n",
       "      <td>42.5</td>\n",
       "      <td>7.0</td>\n",
       "      <td>8.0</td>\n",
       "      <td>1 9-inch pie</td>\n",
       "      <td>c(\"Graham Cracker Crust: In small bowl, combin...</td>\n",
       "    </tr>\n",
       "    <tr>\n",
       "      <th>2</th>\n",
       "      <td>16</td>\n",
       "      <td>54</td>\n",
       "      <td>Carrot Cake</td>\n",
       "      <td>1535</td>\n",
       "      <td>Marg CaymanDesigns</td>\n",
       "      <td>PT50M</td>\n",
       "      <td>PT45M</td>\n",
       "      <td>PT1H35M</td>\n",
       "      <td>1999-09-13T15:20:00Z</td>\n",
       "      <td>This is one of the few recipes my husband ever...</td>\n",
       "      <td>...</td>\n",
       "      <td>4.9</td>\n",
       "      <td>69.8</td>\n",
       "      <td>534.8</td>\n",
       "      <td>67.0</td>\n",
       "      <td>1.6</td>\n",
       "      <td>47.9</td>\n",
       "      <td>5.0</td>\n",
       "      <td>12.0</td>\n",
       "      <td>1 bundt</td>\n",
       "      <td>c(\"Beat together the eggs, oil, and white suga...</td>\n",
       "    </tr>\n",
       "    <tr>\n",
       "      <th>3</th>\n",
       "      <td>26</td>\n",
       "      <td>64</td>\n",
       "      <td>Almond Pound Cake</td>\n",
       "      <td>125579</td>\n",
       "      <td>GrandmaIsCooking</td>\n",
       "      <td>PT1H</td>\n",
       "      <td>PT15M</td>\n",
       "      <td>PT1H15M</td>\n",
       "      <td>1999-08-07T16:33:00Z</td>\n",
       "      <td>Make and share this Almond Pound Cake recipe f...</td>\n",
       "      <td>...</td>\n",
       "      <td>9.0</td>\n",
       "      <td>118.9</td>\n",
       "      <td>159.4</td>\n",
       "      <td>56.0</td>\n",
       "      <td>1.3</td>\n",
       "      <td>29.0</td>\n",
       "      <td>6.9</td>\n",
       "      <td>10.0</td>\n",
       "      <td>1 cake</td>\n",
       "      <td>c(\"Preheat oven to 350 degrees Fahrenheit.\", \"...</td>\n",
       "    </tr>\n",
       "    <tr>\n",
       "      <th>4</th>\n",
       "      <td>54</td>\n",
       "      <td>94</td>\n",
       "      <td>Blueberry Buttertarts</td>\n",
       "      <td>1556</td>\n",
       "      <td>Strawberry Girl</td>\n",
       "      <td>PT25M</td>\n",
       "      <td>PT15M</td>\n",
       "      <td>PT40M</td>\n",
       "      <td>1999-09-12T05:46:00Z</td>\n",
       "      <td>Make and share this Blueberry Buttertarts reci...</td>\n",
       "      <td>...</td>\n",
       "      <td>4.7</td>\n",
       "      <td>17.6</td>\n",
       "      <td>125.7</td>\n",
       "      <td>40.2</td>\n",
       "      <td>1.2</td>\n",
       "      <td>11.5</td>\n",
       "      <td>4.2</td>\n",
       "      <td>12.0</td>\n",
       "      <td>12 tarts</td>\n",
       "      <td>c(\"Preheat oven to 375F.\", \"Leave shells in fo...</td>\n",
       "    </tr>\n",
       "  </tbody>\n",
       "</table>\n",
       "<p>5 rows × 29 columns</p>\n",
       "</div>"
      ],
      "text/plain": [
       "   index  RecipeId                            Name  AuthorId  \\\n",
       "0      3        41  Carina's Tofu-Vegetable Kebabs      1586   \n",
       "1      5        43            Best Blackbottom Pie     34879   \n",
       "2     16        54                     Carrot Cake      1535   \n",
       "3     26        64               Almond Pound Cake    125579   \n",
       "4     54        94           Blueberry Buttertarts      1556   \n",
       "\n",
       "             AuthorName CookTime PrepTime TotalTime         DatePublished  \\\n",
       "0               Cyclopz    PT20M    PT24H  PT24H20M  1999-09-03T14:54:00Z   \n",
       "1  Barefoot Beachcomber     PT2H    PT20M   PT2H20M  1999-08-21T10:35:00Z   \n",
       "2    Marg CaymanDesigns    PT50M    PT45M   PT1H35M  1999-09-13T15:20:00Z   \n",
       "3      GrandmaIsCooking     PT1H    PT15M   PT1H15M  1999-08-07T16:33:00Z   \n",
       "4       Strawberry Girl    PT25M    PT15M     PT40M  1999-09-12T05:46:00Z   \n",
       "\n",
       "                                         Description  ... SaturatedFatContent  \\\n",
       "0  This dish is best prepared a day in advance to...  ...                 3.8   \n",
       "1  Make and share this Best Blackbottom Pie recip...  ...                10.9   \n",
       "2  This is one of the few recipes my husband ever...  ...                 4.9   \n",
       "3  Make and share this Almond Pound Cake recipe f...  ...                 9.0   \n",
       "4  Make and share this Blueberry Buttertarts reci...  ...                 4.7   \n",
       "\n",
       "  CholesterolContent SodiumContent CarbohydrateContent FiberContent  \\\n",
       "0                0.0        1558.6                64.2         17.3   \n",
       "1               94.3         267.6                58.0          1.8   \n",
       "2               69.8         534.8                67.0          1.6   \n",
       "3              118.9         159.4                56.0          1.3   \n",
       "4               17.6         125.7                40.2          1.2   \n",
       "\n",
       "   SugarContent  ProteinContent  RecipeServings   RecipeYield  \\\n",
       "0          32.1            29.3             2.0      4 kebabs   \n",
       "1          42.5             7.0             8.0  1 9-inch pie   \n",
       "2          47.9             5.0            12.0       1 bundt   \n",
       "3          29.0             6.9            10.0        1 cake   \n",
       "4          11.5             4.2            12.0      12 tarts   \n",
       "\n",
       "                                  RecipeInstructions  \n",
       "0  c(\"Drain the tofu, carefully squeezing out exc...  \n",
       "1  c(\"Graham Cracker Crust: In small bowl, combin...  \n",
       "2  c(\"Beat together the eggs, oil, and white suga...  \n",
       "3  c(\"Preheat oven to 350 degrees Fahrenheit.\", \"...  \n",
       "4  c(\"Preheat oven to 375F.\", \"Leave shells in fo...  \n",
       "\n",
       "[5 rows x 29 columns]"
      ]
     },
     "execution_count": 485,
     "metadata": {},
     "output_type": "execute_result"
    }
   ],
   "source": [
    "recipes.head(5)"
   ]
  },
  {
   "cell_type": "code",
   "execution_count": 488,
   "id": "1827aa53-553e-444f-8704-b9e71ba143d6",
   "metadata": {},
   "outputs": [
    {
     "name": "stdout",
     "output_type": "stream",
     "text": [
      "Carrot Cake\n",
      "Freeman Allen's Carrot Cake\n",
      "1940's Best Carrot Cake Recipe\n",
      "Family Heirloom Carrot Cake\n",
      "Kathy's Carrot Cake\n"
     ]
    }
   ],
   "source": [
    "recommend(\"Carrot Cake\")"
   ]
  },
  {
   "cell_type": "code",
   "execution_count": 506,
   "id": "4c6f0387-a84d-4bcd-a94b-6cb8927ee90a",
   "metadata": {},
   "outputs": [
    {
     "name": "stdout",
     "output_type": "stream",
     "text": [
      "Blueberry Buttertarts\n",
      "character(0)\n",
      "Blueberry Pie\n",
      "c(\"https://img.sndimg.com/food/image/upload/w_555,h_416,c_fit,fl_progressive,q_95/v1/img/recipes/24/52/1/BTwby3XUTuaSEL4kDrbq_blueberry%20pie.JPG\", \"https://img.sndimg.com/food/image/upload/w_555,h_416,c_fit,fl_progressive,q_95/v1/img/recipes/24/52/1/uKRhI1DGTGSALk8cOBFP_Blueberry%20Pie.jpg\", \"https://img.sndimg.com/food/image/upload/w_555,h_416,c_fit,fl_progressive,q_95/v1/img/recipes/24/52/1/fsIqH6UvROYzTIGjc6X5_1506802820188558617535.jpg\", \"https://img.sndimg.com/food/image/upload/w_555,h_416,c_fit,fl_progressive,q_95/v1/img/recipes/24/52/1/ps3zGkhXRkaUEPNURRtg_1502050180870248498672.jpg\", \n",
      "\"https://img.sndimg.com/food/image/upload/v1/img/feed/24521/2FZoBcxSvOvu3Lr7nEfw_20170627_195827.jpg\", \"https://img.sndimg.com/food/image/upload/v1/img/feed/24521/QwZxtIksS6e0WTJ9M2yK_Pie%20in%20the%20Sky.png\", \"https://img.sndimg.com/food/image/upload/w_555,h_416,c_fit,fl_progressive,q_95/v1/img/recipes/24/52/1/nhPUTJBQwiLTfGMc45DQ_image.jpeg\", \"https://img.sndimg.com/food/image/upload/w_555,h_416,c_fit,fl_progressive,q_95/v1/img/recipes/24/52/1/4J2fqJUT0e4ZwThagiCQ_pie.png\", \"https://img.sndimg.com/food/image/upload/w_555,h_416,c_fit,fl_progressive,q_95/v1/img/recipes/24/52/1/mfc7c8pRqiaDlQUUKs2Q_IMG_5707.JPG\", \n",
      "\"https://img.sndimg.com/food/image/upload/w_555,h_416,c_fit,fl_progressive,q_95/v1/img/recipes/24/52/1/3OwV7J9mRqqSOaHvs7PH_blueberrypie.jpg\", \"https://img.sndimg.com/food/image/upload/w_555,h_416,c_fit,fl_progressive,q_95/v1/img/recipes/24/52/1/picB4S5VX.jpg\", \"https://img.sndimg.com/food/image/upload/w_555,h_416,c_fit,fl_progressive,q_95/v1/img/recipes/24/52/1/piczCwtrj.jpg\", \"https://img.sndimg.com/food/image/upload/w_555,h_416,c_fit,fl_progressive,q_95/v1/img/recipes/24/52/1/A77ND80tTE6UUchWfetJ_10225108005945982.jpg\", \n",
      "\"https://img.sndimg.com/food/image/upload/w_555,h_416,c_fit,fl_progressive,q_95/v1/img/recipes/24/52/1/VIrj0bxvRzKgD8a9tWQg_C8E947EC-8DE5-4D6A-8DBC-4DCCDF733C02.jpeg\", \"https://img.sndimg.com/food/image/upload/v1/img/feed/24521/MC7KIiBnRKZKytISenUQ_F90CBEB0-1F9D-4D88-9C69-97F346218D5E.jpeg\", \"https://img.sndimg.com/food/image/upload/w_555,h_416,c_fit,fl_progressive,q_95/v1/img/recipes/24/52/1/zjRldWoZTa6Bj5TG1I8R_1528826295764163324111975115008.jpg\", \"https://img.sndimg.com/food/image/upload/v1/img/feed/24521/LRK8Cg6GTYSdvliEWa0c_1F1020E0-0B83-4BEC-AB9D-88A6535169FA.jpeg\", \n",
      "\"https://img.sndimg.com/food/image/upload/w_555,h_416,c_fit,fl_progressive,q_95/v1/img/recipes/24/52/1/TF60IMOnR3mR630EYDsw_20180324_203122.jpg\", \"https://img.sndimg.com/food/image/upload/w_555,h_416,c_fit,fl_progressive,q_95/v1/img/recipes/24/52/1/12JetVxSfmwMZdDWuJgZ_20180324_162054.jpg\", \"https://img.sndimg.com/food/image/upload/v1/img/feed/24521/D3hEePSLT6eDoaTIQPKg_3031C192-FAFC-431D-ADE4-45CA14D566DD.jpeg\", \"https://img.sndimg.com/food/image/upload/w_555,h_416,c_fit,fl_progressive,q_95/v1/img/recipes/24/52/1/LERziBmzTyqSZk7lPPlx_15020659766241205946214.jpg\", \n",
      "\"https://img.sndimg.com/food/image/upload/v1/img/feed/24521/hwR2lhcHQG9dtYAf6jUd_14856698195382145319165.jpg\", \"https://img.sndimg.com/food/image/upload/w_555,h_416,c_fit,fl_progressive,q_95/v1/img/recipes/24/52/1/SSYzQMsSwazZVuxd4G6k_image.jpeg\", \"https://img.sndimg.com/food/image/upload/w_555,h_416,c_fit,fl_progressive,q_95/v1/img/recipes/24/52/1/0YUabOadTL2KJVuYgZ6w_20160724_110327.jpg\", \"https://img.sndimg.com/food/image/upload/w_555,h_416,c_fit,fl_progressive,q_95/v1/img/recipes/24/52/1/YIK2BJlTOadLpMNbVvTw_IMG_1902.JPG\", \n",
      "\"https://img.sndimg.com/food/image/upload/w_555,h_416,c_fit,fl_progressive,q_95/v1/img/recipes/24/52/1/yD57soSSdKG0L3EQsVEv_DSC_0016.JPG\", \"https://img.sndimg.com/food/image/upload/w_555,h_416,c_fit,fl_progressive,q_95/v1/img/recipes/24/52/1/QlkBEa8T2TKLpV0n2kvw_blueberry%20pie.JPG\", \"https://img.sndimg.com/food/image/upload/w_555,h_416,c_fit,fl_progressive,q_95/v1/img/recipes/24/52/1/8Oe3SrTXuTePhMfFRfwP_image.jpg\", \"https://img.sndimg.com/food/image/upload/w_555,h_416,c_fit,fl_progressive,q_95/v1/img/recipes/24/52/1/ox0AEOhHTEKfA9Fdi72q_pie.jpg\", \n",
      "\"https://img.sndimg.com/food/image/upload/w_555,h_416,c_fit,fl_progressive,q_95/v1/img/recipes/24/52/1/nJ750geVS9KVLurgr3Pr_image.jpg\", \"https://img.sndimg.com/food/image/upload/w_555,h_416,c_fit,fl_progressive,q_95/v1/img/recipes/24/52/1/H84VPZotRmSLJp46xl9q_14355069576352060641396.jpg\", \"https://img.sndimg.com/food/image/upload/w_555,h_416,c_fit,fl_progressive,q_95/v1/img/recipes/24/52/1/bMfsDh5rTjGjianbQQjR_10154432155845176.jpg\", \"https://img.sndimg.com/food/image/upload/w_555,h_416,c_fit,fl_progressive,q_95/v1/img/recipes/24/52/1/picP3pOS8.jpg\", \n",
      "\"https://img.sndimg.com/food/image/upload/w_555,h_416,c_fit,fl_progressive,q_95/v1/img/recipes/24/52/1/picdNdSKg.jpg\", \"https://img.sndimg.com/food/image/upload/w_555,h_416,c_fit,fl_progressive,q_95/v1/img/recipes/24/52/1/picljZoaa.jpg\", \"https://img.sndimg.com/food/image/upload/w_555,h_416,c_fit,fl_progressive,q_95/v1/img/recipes/24/52/1/picQbuslw.jpg\", \"https://img.sndimg.com/food/image/upload/w_555,h_416,c_fit,fl_progressive,q_95/v1/img/recipes/24/52/1/picOEYtuz.jpg\", \"https://img.sndimg.com/food/image/upload/w_555,h_416,c_fit,fl_progressive,q_95/v1/img/recipes/24/52/1/picdQremc.jpg\", \n",
      "\"https://img.sndimg.com/food/image/upload/w_555,h_416,c_fit,fl_progressive,q_95/v1/img/recipes/24/52/1/picqVXP3I.jpg\", \"https://img.sndimg.com/food/image/upload/w_555,h_416,c_fit,fl_progressive,q_95/v1/img/recipes/24/52/1/picAfPRKr.jpg\", \"https://img.sndimg.com/food/image/upload/w_555,h_416,c_fit,fl_progressive,q_95/v1/img/recipes/24/52/1/picryrKuk.jpg\", \"https://img.sndimg.com/food/image/upload/w_555,h_416,c_fit,fl_progressive,q_95/v1/img/recipes/24/52/1/pic76IAML.jpg\", \"https://img.sndimg.com/food/image/upload/w_555,h_416,c_fit,fl_progressive,q_95/v1/img/recipes/24/52/1/picFV0R7H.jpg\", \n",
      "\"https://img.sndimg.com/food/image/upload/w_555,h_416,c_fit,fl_progressive,q_95/v1/img/recipes/24/52/1/pic2H9vgY.jpg\", \"https://img.sndimg.com/food/image/upload/w_555,h_416,c_fit,fl_progressive,q_95/v1/img/recipes/24/52/1/pictUpPKr.jpg\", \"https://img.sndimg.com/food/image/upload/w_555,h_416,c_fit,fl_progressive,q_95/v1/img/recipes/24/52/1/pickGkAoE.jpg\", \"https://img.sndimg.com/food/image/upload/w_555,h_416,c_fit,fl_progressive,q_95/v1/img/recipes/24/52/1/picgU1hLu.jpg\", \"https://img.sndimg.com/food/image/upload/w_555,h_416,c_fit,fl_progressive,q_95/v1/img/recipes/24/52/1/picdRb1tN.jpg\", \n",
      "\"https://img.sndimg.com/food/image/upload/w_555,h_416,c_fit,fl_progressive,q_95/v1/img/recipes/24/52/1/picTM0u7d.jpg\", \"https://img.sndimg.com/food/image/upload/w_555,h_416,c_fit,fl_progressive,q_95/v1/img/recipes/24/52/1/picqlUBBl.jpg\", \"https://img.sndimg.com/food/image/upload/w_555,h_416,c_fit,fl_progressive,q_95/v1/img/recipes/24/52/1/pic5rcD9w.jpg\", \"https://img.sndimg.com/food/image/upload/w_555,h_416,c_fit,fl_progressive,q_95/v1/img/recipes/24/52/1/picRMUohH.jpg\", \"https://img.sndimg.com/food/image/upload/w_555,h_416,c_fit,fl_progressive,q_95/v1/img/recipes/24/52/1/picrSy2zo.jpg\", \n",
      "\"https://img.sndimg.com/food/image/upload/w_555,h_416,c_fit,fl_progressive,q_95/v1/img/recipes/24/52/1/pic7K58X7.jpg\", \"https://img.sndimg.com/food/image/upload/w_555,h_416,c_fit,fl_progressive,q_95/v1/img/recipes/24/52/1/picJI763o.jpg\")\n",
      "Blueberry Cheese Buckle (Walt Disney World)\n",
      "c(\"https://img.sndimg.com/food/image/upload/w_555,h_416,c_fit,fl_progressive,q_95/v1/img/recipes/18/89/09/picYaOxaU.jpg\", \"https://img.sndimg.com/food/image/upload/w_555,h_416,c_fit,fl_progressive,q_95/v1/img/recipes/18/89/09/picMKDFzk.jpg\")\n",
      "Blueberry Lemon Crumb Bars\n",
      "\"https://img.sndimg.com/food/image/upload/w_555,h_416,c_fit,fl_progressive,q_95/v1/img/recipes/35/89/8/picC6SSgz.jpg\"\n",
      "Blueberry Sour Cream Pie\n",
      "c(\"https://img.sndimg.com/food/image/upload/w_555,h_416,c_fit,fl_progressive,q_95/v1/img/recipes/51/25/7/picU9Vweu.jpg\", \"https://img.sndimg.com/food/image/upload/w_555,h_416,c_fit,fl_progressive,q_95/v1/img/recipes/51/25/7/01505249601.jpeg\", \"https://img.sndimg.com/food/image/upload/w_555,h_416,c_fit,fl_progressive,q_95/v1/img/recipes/51/25/7/Ka7FuGTmRBGR72MRC4SB_20180511_220323.jpg\", \"https://img.sndimg.com/food/image/upload/w_555,h_416,c_fit,fl_progressive,q_95/v1/img/recipes/51/25/7/Tw1stI2qQkC8gXXUoK6x_20180114_201738.jpg\", \n",
      "\"https://img.sndimg.com/food/image/upload/w_555,h_416,c_fit,fl_progressive,q_95/v1/img/recipes/51/25/7/01503640155.jpeg\", \"https://img.sndimg.com/food/image/upload/w_555,h_416,c_fit,fl_progressive,q_95/v1/img/recipes/51/25/7/01478660345.jpeg\", \"https://img.sndimg.com/food/image/upload/w_555,h_416,c_fit,fl_progressive,q_95/v1/img/recipes/51/25/7/picUqczYb.jpg\", \"https://img.sndimg.com/food/image/upload/w_555,h_416,c_fit,fl_progressive,q_95/v1/img/recipes/51/25/7/picpDDqHT.jpg\", \"https://img.sndimg.com/food/image/upload/w_555,h_416,c_fit,fl_progressive,q_95/v1/img/recipes/51/25/7/picrkEeUO.jpg\", \n",
      "\"https://img.sndimg.com/food/image/upload/w_555,h_416,c_fit,fl_progressive,q_95/v1/img/recipes/51/25/7/picgXaBEx.jpg\", \"https://img.sndimg.com/food/image/upload/w_555,h_416,c_fit,fl_progressive,q_95/v1/img/recipes/51/25/7/pick6aKEj.jpg\", \"https://img.sndimg.com/food/image/upload/w_555,h_416,c_fit,fl_progressive,q_95/v1/img/recipes/51/25/7/picnUKbLa.jpg\", \"https://img.sndimg.com/food/image/upload/w_555,h_416,c_fit,fl_progressive,q_95/v1/img/recipes/51/25/7/picwAyOqK.jpg\", \"https://img.sndimg.com/food/image/upload/w_555,h_416,c_fit,fl_progressive,q_95/v1/img/recipes/51/25/7/picmy5kMx.jpg\", \n",
      "\"https://img.sndimg.com/food/image/upload/w_555,h_416,c_fit,fl_progressive,q_95/v1/img/recipes/51/25/7/picFqYA4h.jpg\", \"https://img.sndimg.com/food/image/upload/w_555,h_416,c_fit,fl_progressive,q_95/v1/img/recipes/51/25/7/picOt5iBz.jpg\")\n"
     ]
    }
   ],
   "source": [
    "recommend(\"Blueberry Buttertarts\")"
   ]
  },
  {
   "cell_type": "code",
   "execution_count": 493,
   "id": "0954b4e1-6129-4a76-8b08-43731e67aea8",
   "metadata": {},
   "outputs": [],
   "source": [
    "def get_images(recipes_input):\n",
    "    index = recipes[recipes['Name']==recipes_input].index[0]\n",
    "    distance = sorted(list(enumerate(similar[index])), reverse=True, key=lambda vector:vector[1])\n",
    "    for i in distance[0:1]:\n",
    "        print(recipes.iloc[i[0]].Images)"
   ]
  },
  {
   "cell_type": "code",
   "execution_count": 494,
   "id": "c59f5a9a-517f-49f0-9295-82fffbe89550",
   "metadata": {},
   "outputs": [
    {
     "name": "stdout",
     "output_type": "stream",
     "text": [
      "c(\"https://img.sndimg.com/food/image/upload/w_555,h_416,c_fit,fl_progressive,q_95/v1/img/recipes/54/picQ2X4D8.jpg\", \"https://img.sndimg.com/food/image/upload/w_555,h_416,c_fit,fl_progressive,q_95/v1/img/recipes/54/pic3oloIV.jpg\", \"https://img.sndimg.com/food/image/upload/w_555,h_416,c_fit,fl_progressive,q_95/v1/img/recipes/54/picf0dw0o.jpg\")\n"
     ]
    }
   ],
   "source": [
    "get_images(\"Carrot Cake\")"
   ]
  },
  {
   "cell_type": "code",
   "execution_count": 489,
   "id": "44619300-215f-4f0a-8869-67474cd90de9",
   "metadata": {},
   "outputs": [],
   "source": [
    "pickle.dump(recipes, open('recipes.pkl', 'wb'))\n",
    "pickle.dump(similar, open('similar.pkl', 'wb'))"
   ]
  }
 ],
 "metadata": {
  "kernelspec": {
   "display_name": "Python 3 (ipykernel)",
   "language": "python",
   "name": "python3"
  },
  "language_info": {
   "codemirror_mode": {
    "name": "ipython",
    "version": 3
   },
   "file_extension": ".py",
   "mimetype": "text/x-python",
   "name": "python",
   "nbconvert_exporter": "python",
   "pygments_lexer": "ipython3",
   "version": "3.13.3"
  }
 },
 "nbformat": 4,
 "nbformat_minor": 5
}
